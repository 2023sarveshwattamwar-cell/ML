{
  "nbformat": 4,
  "nbformat_minor": 0,
  "metadata": {
    "colab": {
      "provenance": []
    },
    "kernelspec": {
      "name": "python3",
      "display_name": "Python 3"
    },
    "language_info": {
      "name": "python"
    }
  },
  "cells": [
    {
      "cell_type": "code",
      "source": [
        "import numpy as np\n",
        "import pandas as pd"
      ],
      "metadata": {
        "id": "pOXvtj3APNnr"
      },
      "execution_count": null,
      "outputs": []
    },
    {
      "cell_type": "code",
      "source": [
        "def AND_gate(x1, x2):\n",
        "    w1, w2 = 1, 1\n",
        "    threshold = 1.5\n",
        "    total = w1*x1 + w2*x2\n",
        "    if total >= threshold:\n",
        "        return 1\n",
        "    else:\n",
        "        return 0\n",
        "\n",
        "\n",
        "def OR_gate(x1, x2):\n",
        "    w1, w2 = 1, 1\n",
        "    threshold = 0.5\n",
        "    total = w1*x1 + w2*x2\n",
        "    if total >= threshold:\n",
        "        return 1\n",
        "    else:\n",
        "        return 0\n",
        "\n",
        "\n",
        "def NOT_gate(x):\n",
        "    w = -1\n",
        "    threshold = 0.5\n",
        "    total = w * x\n",
        "    if total >= -threshold:\n",
        "        return 1\n",
        "    else:\n",
        "        return 0\n",
        "\n",
        "print(\"=== AND Gate Truth Table ===\")\n",
        "print(\"A B | Output\")\n",
        "for x1 in [0, 1]:\n",
        "    for x2 in [0, 1]:\n",
        "        print(x1, x2, \" |  \", AND_gate(x1, x2))\n",
        "\n",
        "print(\"\\n=== OR Gate Truth Table ===\")\n",
        "print(\"A B | Output\")\n",
        "for x1 in [0, 1]:\n",
        "    for x2 in [0, 1]:\n",
        "        print(x1, x2, \" |  \", OR_gate(x1, x2))\n",
        "\n",
        "print(\"\\n=== NOT Gate Truth Table ===\")\n",
        "print(\"A | Output\")\n",
        "for x in [0, 1]:\n",
        "    print(x, \"|  \", NOT_gate(x))\n"
      ],
      "metadata": {
        "colab": {
          "base_uri": "https://localhost:8080/"
        },
        "id": "-Ex630BXPipC",
        "outputId": "ee51fce7-43b1-48a9-f2ac-f15aedd2f468"
      },
      "execution_count": null,
      "outputs": [
        {
          "output_type": "stream",
          "name": "stdout",
          "text": [
            "=== AND Gate Truth Table ===\n",
            "A B | Output\n",
            "0 0  |   0\n",
            "0 1  |   0\n",
            "1 0  |   0\n",
            "1 1  |   1\n",
            "\n",
            "=== OR Gate Truth Table ===\n",
            "A B | Output\n",
            "0 0  |   0\n",
            "0 1  |   1\n",
            "1 0  |   1\n",
            "1 1  |   1\n",
            "\n",
            "=== NOT Gate Truth Table ===\n",
            "A | Output\n",
            "0 |   1\n",
            "1 |   0\n"
          ]
        }
      ]
    }
  ]
}