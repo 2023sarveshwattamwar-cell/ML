{
  "cells": [
    {
      "cell_type": "code",
      "execution_count": 1,
      "metadata": {
        "colab": {
          "base_uri": "https://localhost:8080/"
        },
        "id": "rrtgYtYw9qfh",
        "outputId": "6f0b9e49-16fb-4005-b824-442545254d6c"
      },
      "outputs": [
        {
          "name": "stderr",
          "output_type": "stream",
          "text": [
            "C:\\Users\\watta\\AppData\\Roaming\\Python\\Python313\\site-packages\\tqdm\\auto.py:21: TqdmWarning: IProgress not found. Please update jupyter and ipywidgets. See https://ipywidgets.readthedocs.io/en/stable/user_install.html\n",
            "  from .autonotebook import tqdm as notebook_tqdm\n"
          ]
        },
        {
          "name": "stdout",
          "output_type": "stream",
          "text": [
            "Path to dataset files: C:\\Users\\watta\\.cache\\kagglehub\\datasets\\shree1992\\housedata\\versions\\2\n"
          ]
        }
      ],
      "source": [
        "import kagglehub\n",
        "\n",
        "# Download latest version\n",
        "path = kagglehub.dataset_download(\"shree1992/housedata\")\n",
        "\n",
        "print(\"Path to dataset files:\", path)"
      ]
    },
    {
      "cell_type": "code",
      "execution_count": 2,
      "metadata": {
        "id": "5NgZzhnoAkf9"
      },
      "outputs": [],
      "source": [
        "import pandas as pd\n",
        "import numpy as np\n",
        "import matplotlib.pyplot as plt"
      ]
    },
    {
      "cell_type": "code",
      "execution_count": 3,
      "metadata": {
        "id": "Wk81C1nSBKc_"
      },
      "outputs": [],
      "source": [
        "df = pd.read_csv(path + \"/data.csv\")"
      ]
    },
    {
      "cell_type": "code",
      "execution_count": 19,
      "metadata": {
        "colab": {
          "base_uri": "https://localhost:8080/",
          "height": 417
        },
        "id": "ASobw8SKBMO3",
        "outputId": "71b2fc5a-ddd8-4b48-fa34-4b9d7a00f37e"
      },
      "outputs": [
        {
          "data": {
            "text/html": [
              "<div>\n",
              "<style scoped>\n",
              "    .dataframe tbody tr th:only-of-type {\n",
              "        vertical-align: middle;\n",
              "    }\n",
              "\n",
              "    .dataframe tbody tr th {\n",
              "        vertical-align: top;\n",
              "    }\n",
              "\n",
              "    .dataframe thead th {\n",
              "        text-align: right;\n",
              "    }\n",
              "</style>\n",
              "<table border=\"1\" class=\"dataframe\">\n",
              "  <thead>\n",
              "    <tr style=\"text-align: right;\">\n",
              "      <th></th>\n",
              "      <th>date</th>\n",
              "      <th>price</th>\n",
              "      <th>bedrooms</th>\n",
              "      <th>bathrooms</th>\n",
              "      <th>sqft_living</th>\n",
              "      <th>sqft_lot</th>\n",
              "      <th>floors</th>\n",
              "      <th>waterfront</th>\n",
              "      <th>view</th>\n",
              "      <th>condition</th>\n",
              "      <th>sqft_above</th>\n",
              "      <th>sqft_basement</th>\n",
              "      <th>yr_built</th>\n",
              "      <th>yr_renovated</th>\n",
              "      <th>street</th>\n",
              "      <th>city</th>\n",
              "      <th>statezip</th>\n",
              "      <th>country</th>\n",
              "    </tr>\n",
              "  </thead>\n",
              "  <tbody>\n",
              "    <tr>\n",
              "      <th>0</th>\n",
              "      <td>2014-05-02 00:00:00</td>\n",
              "      <td>313000.0</td>\n",
              "      <td>3.0</td>\n",
              "      <td>1.50</td>\n",
              "      <td>1340</td>\n",
              "      <td>7912</td>\n",
              "      <td>1.5</td>\n",
              "      <td>0</td>\n",
              "      <td>0</td>\n",
              "      <td>3</td>\n",
              "      <td>1340</td>\n",
              "      <td>0</td>\n",
              "      <td>1955</td>\n",
              "      <td>2005</td>\n",
              "      <td>18810 Densmore Ave N</td>\n",
              "      <td>Shoreline</td>\n",
              "      <td>WA 98133</td>\n",
              "      <td>USA</td>\n",
              "    </tr>\n",
              "    <tr>\n",
              "      <th>1</th>\n",
              "      <td>2014-05-02 00:00:00</td>\n",
              "      <td>2384000.0</td>\n",
              "      <td>5.0</td>\n",
              "      <td>2.50</td>\n",
              "      <td>3650</td>\n",
              "      <td>9050</td>\n",
              "      <td>2.0</td>\n",
              "      <td>0</td>\n",
              "      <td>4</td>\n",
              "      <td>5</td>\n",
              "      <td>3370</td>\n",
              "      <td>280</td>\n",
              "      <td>1921</td>\n",
              "      <td>0</td>\n",
              "      <td>709 W Blaine St</td>\n",
              "      <td>Seattle</td>\n",
              "      <td>WA 98119</td>\n",
              "      <td>USA</td>\n",
              "    </tr>\n",
              "    <tr>\n",
              "      <th>2</th>\n",
              "      <td>2014-05-02 00:00:00</td>\n",
              "      <td>342000.0</td>\n",
              "      <td>3.0</td>\n",
              "      <td>2.00</td>\n",
              "      <td>1930</td>\n",
              "      <td>11947</td>\n",
              "      <td>1.0</td>\n",
              "      <td>0</td>\n",
              "      <td>0</td>\n",
              "      <td>4</td>\n",
              "      <td>1930</td>\n",
              "      <td>0</td>\n",
              "      <td>1966</td>\n",
              "      <td>0</td>\n",
              "      <td>26206-26214 143rd Ave SE</td>\n",
              "      <td>Kent</td>\n",
              "      <td>WA 98042</td>\n",
              "      <td>USA</td>\n",
              "    </tr>\n",
              "    <tr>\n",
              "      <th>3</th>\n",
              "      <td>2014-05-02 00:00:00</td>\n",
              "      <td>420000.0</td>\n",
              "      <td>3.0</td>\n",
              "      <td>2.25</td>\n",
              "      <td>2000</td>\n",
              "      <td>8030</td>\n",
              "      <td>1.0</td>\n",
              "      <td>0</td>\n",
              "      <td>0</td>\n",
              "      <td>4</td>\n",
              "      <td>1000</td>\n",
              "      <td>1000</td>\n",
              "      <td>1963</td>\n",
              "      <td>0</td>\n",
              "      <td>857 170th Pl NE</td>\n",
              "      <td>Bellevue</td>\n",
              "      <td>WA 98008</td>\n",
              "      <td>USA</td>\n",
              "    </tr>\n",
              "    <tr>\n",
              "      <th>4</th>\n",
              "      <td>2014-05-02 00:00:00</td>\n",
              "      <td>550000.0</td>\n",
              "      <td>4.0</td>\n",
              "      <td>2.50</td>\n",
              "      <td>1940</td>\n",
              "      <td>10500</td>\n",
              "      <td>1.0</td>\n",
              "      <td>0</td>\n",
              "      <td>0</td>\n",
              "      <td>4</td>\n",
              "      <td>1140</td>\n",
              "      <td>800</td>\n",
              "      <td>1976</td>\n",
              "      <td>1992</td>\n",
              "      <td>9105 170th Ave NE</td>\n",
              "      <td>Redmond</td>\n",
              "      <td>WA 98052</td>\n",
              "      <td>USA</td>\n",
              "    </tr>\n",
              "  </tbody>\n",
              "</table>\n",
              "</div>"
            ],
            "text/plain": [
              "                  date      price  bedrooms  bathrooms  sqft_living  sqft_lot  \\\n",
              "0  2014-05-02 00:00:00   313000.0       3.0       1.50         1340      7912   \n",
              "1  2014-05-02 00:00:00  2384000.0       5.0       2.50         3650      9050   \n",
              "2  2014-05-02 00:00:00   342000.0       3.0       2.00         1930     11947   \n",
              "3  2014-05-02 00:00:00   420000.0       3.0       2.25         2000      8030   \n",
              "4  2014-05-02 00:00:00   550000.0       4.0       2.50         1940     10500   \n",
              "\n",
              "   floors  waterfront  view  condition  sqft_above  sqft_basement  yr_built  \\\n",
              "0     1.5           0     0          3        1340              0      1955   \n",
              "1     2.0           0     4          5        3370            280      1921   \n",
              "2     1.0           0     0          4        1930              0      1966   \n",
              "3     1.0           0     0          4        1000           1000      1963   \n",
              "4     1.0           0     0          4        1140            800      1976   \n",
              "\n",
              "   yr_renovated                    street       city  statezip country  \n",
              "0          2005      18810 Densmore Ave N  Shoreline  WA 98133     USA  \n",
              "1             0           709 W Blaine St    Seattle  WA 98119     USA  \n",
              "2             0  26206-26214 143rd Ave SE       Kent  WA 98042     USA  \n",
              "3             0           857 170th Pl NE   Bellevue  WA 98008     USA  \n",
              "4          1992         9105 170th Ave NE    Redmond  WA 98052     USA  "
            ]
          },
          "execution_count": 19,
          "metadata": {},
          "output_type": "execute_result"
        }
      ],
      "source": [
        "df.head()"
      ]
    },
    {
      "cell_type": "code",
      "execution_count": 20,
      "metadata": {
        "colab": {
          "base_uri": "https://localhost:8080/"
        },
        "id": "j9_3QfvFBYnI",
        "outputId": "e43552ff-028d-4144-d36f-72fb994ae3d3"
      },
      "outputs": [
        {
          "name": "stdout",
          "output_type": "stream",
          "text": [
            "<class 'pandas.core.frame.DataFrame'>\n",
            "RangeIndex: 4600 entries, 0 to 4599\n",
            "Data columns (total 18 columns):\n",
            " #   Column         Non-Null Count  Dtype  \n",
            "---  ------         --------------  -----  \n",
            " 0   date           4600 non-null   object \n",
            " 1   price          4600 non-null   float64\n",
            " 2   bedrooms       4600 non-null   float64\n",
            " 3   bathrooms      4600 non-null   float64\n",
            " 4   sqft_living    4600 non-null   int64  \n",
            " 5   sqft_lot       4600 non-null   int64  \n",
            " 6   floors         4600 non-null   float64\n",
            " 7   waterfront     4600 non-null   int64  \n",
            " 8   view           4600 non-null   int64  \n",
            " 9   condition      4600 non-null   int64  \n",
            " 10  sqft_above     4600 non-null   int64  \n",
            " 11  sqft_basement  4600 non-null   int64  \n",
            " 12  yr_built       4600 non-null   int64  \n",
            " 13  yr_renovated   4600 non-null   int64  \n",
            " 14  street         4600 non-null   object \n",
            " 15  city           4600 non-null   object \n",
            " 16  statezip       4600 non-null   object \n",
            " 17  country        4600 non-null   object \n",
            "dtypes: float64(4), int64(9), object(5)\n",
            "memory usage: 647.0+ KB\n"
          ]
        }
      ],
      "source": [
        "df.info()"
      ]
    },
    {
      "cell_type": "code",
      "execution_count": 21,
      "metadata": {
        "colab": {
          "base_uri": "https://localhost:8080/",
          "height": 649
        },
        "id": "_ip1w5b-BdWY",
        "outputId": "6e72e74c-2f92-4099-d764-39dd92dc67cc"
      },
      "outputs": [
        {
          "data": {
            "text/plain": [
              "date             0\n",
              "price            0\n",
              "bedrooms         0\n",
              "bathrooms        0\n",
              "sqft_living      0\n",
              "sqft_lot         0\n",
              "floors           0\n",
              "waterfront       0\n",
              "view             0\n",
              "condition        0\n",
              "sqft_above       0\n",
              "sqft_basement    0\n",
              "yr_built         0\n",
              "yr_renovated     0\n",
              "street           0\n",
              "city             0\n",
              "statezip         0\n",
              "country          0\n",
              "dtype: int64"
            ]
          },
          "execution_count": 21,
          "metadata": {},
          "output_type": "execute_result"
        }
      ],
      "source": [
        "df.isnull().sum()"
      ]
    },
    {
      "cell_type": "code",
      "execution_count": 22,
      "metadata": {
        "colab": {
          "base_uri": "https://localhost:8080/"
        },
        "id": "ywP54OviBsEB",
        "outputId": "c9500bfe-8ac2-4cfd-bde5-9b61b41acb70"
      },
      "outputs": [
        {
          "data": {
            "text/plain": [
              "np.int64(0)"
            ]
          },
          "execution_count": 22,
          "metadata": {},
          "output_type": "execute_result"
        }
      ],
      "source": [
        "df.isnull().sum().sum()"
      ]
    },
    {
      "cell_type": "code",
      "execution_count": 23,
      "metadata": {
        "colab": {
          "base_uri": "https://localhost:8080/"
        },
        "id": "ybFWxoWkBxt7",
        "outputId": "de21bb8b-b0bd-4a35-bb9c-e52fb14666c9"
      },
      "outputs": [
        {
          "name": "stdout",
          "output_type": "stream",
          "text": [
            "(4600, 18)\n",
            "<bound method IndexOpsMixin.tolist of Index(['date', 'price', 'bedrooms', 'bathrooms', 'sqft_living', 'sqft_lot',\n",
            "       'floors', 'waterfront', 'view', 'condition', 'sqft_above',\n",
            "       'sqft_basement', 'yr_built', 'yr_renovated', 'street', 'city',\n",
            "       'statezip', 'country'],\n",
            "      dtype='object')>\n"
          ]
        }
      ],
      "source": [
        "print(df.shape)\n",
        "print(df.columns.tolist)"
      ]
    },
    {
      "cell_type": "code",
      "execution_count": 4,
      "metadata": {
        "id": "AyonQgd0E5Tm"
      },
      "outputs": [],
      "source": [
        "features = [\"bedrooms\", \"bathrooms\", \"sqft_living\", \"sqft_lot\", \"floors\"]\n",
        "target = \"price\"\n",
        "\n",
        "df_model = df[features + [target]].dropna().copy()\n",
        "X = df_model[features].values\n",
        "y = df_model[target].values"
      ]
    },
    {
      "cell_type": "code",
      "execution_count": 12,
      "metadata": {
        "colab": {
          "base_uri": "https://localhost:8080/"
        },
        "id": "_vGETwqOFBHM",
        "outputId": "d4f14eea-ca04-4323-84c8-876068588893"
      },
      "outputs": [
        {
          "name": "stdout",
          "output_type": "stream",
          "text": [
            "<class 'pandas.core.frame.DataFrame'>\n",
            "RangeIndex: 4600 entries, 0 to 4599\n",
            "Data columns (total 18 columns):\n",
            " #   Column         Non-Null Count  Dtype  \n",
            "---  ------         --------------  -----  \n",
            " 0   date           4600 non-null   object \n",
            " 1   price          4600 non-null   float64\n",
            " 2   bedrooms       4600 non-null   float64\n",
            " 3   bathrooms      4600 non-null   float64\n",
            " 4   sqft_living    4600 non-null   int64  \n",
            " 5   sqft_lot       4600 non-null   int64  \n",
            " 6   floors         4600 non-null   float64\n",
            " 7   waterfront     4600 non-null   int64  \n",
            " 8   view           4600 non-null   int64  \n",
            " 9   condition      4600 non-null   int64  \n",
            " 10  sqft_above     4600 non-null   int64  \n",
            " 11  sqft_basement  4600 non-null   int64  \n",
            " 12  yr_built       4600 non-null   int64  \n",
            " 13  yr_renovated   4600 non-null   int64  \n",
            " 14  street         4600 non-null   object \n",
            " 15  city           4600 non-null   object \n",
            " 16  statezip       4600 non-null   object \n",
            " 17  country        4600 non-null   object \n",
            "dtypes: float64(4), int64(9), object(5)\n",
            "memory usage: 647.0+ KB\n"
          ]
        }
      ],
      "source": [
        "df.info()"
      ]
    },
    {
      "cell_type": "code",
      "execution_count": 5,
      "metadata": {
        "colab": {
          "base_uri": "https://localhost:8080/",
          "height": 384
        },
        "id": "K2_Pru3jFEiD",
        "outputId": "d05caddb-9dc2-4a7c-8329-be6bba51c71d"
      },
      "outputs": [],
      "source": [
        "from sklearn.model_selection import train_test_split\n",
        "\n",
        "X_train, X_test, y_train, y_test = train_test_split(\n",
        "    X, y, test_size=0.20, random_state=42\n",
        ")"
      ]
    },
    {
      "cell_type": "code",
      "execution_count": 15,
      "metadata": {
        "colab": {
          "base_uri": "https://localhost:8080/",
          "height": 1000
        },
        "id": "oU79c15hEKZZ",
        "outputId": "b65a461c-502f-4b4b-a490-ca75a34a1d1d"
      },
      "outputs": [
        {
          "ename": "ModuleNotFoundError",
          "evalue": "No module named 'sklearn'",
          "output_type": "error",
          "traceback": [
            "\u001b[31m---------------------------------------------------------------------------\u001b[39m",
            "\u001b[31mModuleNotFoundError\u001b[39m                       Traceback (most recent call last)",
            "\u001b[36mCell\u001b[39m\u001b[36m \u001b[39m\u001b[32mIn[15]\u001b[39m\u001b[32m, line 5\u001b[39m\n\u001b[32m      3\u001b[39m \u001b[38;5;28;01mimport\u001b[39;00m\u001b[38;5;250m \u001b[39m\u001b[34;01mnumpy\u001b[39;00m\u001b[38;5;250m \u001b[39m\u001b[38;5;28;01mas\u001b[39;00m\u001b[38;5;250m \u001b[39m\u001b[34;01mnp\u001b[39;00m\n\u001b[32m      4\u001b[39m \u001b[38;5;28;01mimport\u001b[39;00m\u001b[38;5;250m \u001b[39m\u001b[34;01mmatplotlib\u001b[39;00m\u001b[34;01m.\u001b[39;00m\u001b[34;01mpyplot\u001b[39;00m\u001b[38;5;250m \u001b[39m\u001b[38;5;28;01mas\u001b[39;00m\u001b[38;5;250m \u001b[39m\u001b[34;01mplt\u001b[39;00m\n\u001b[32m----> \u001b[39m\u001b[32m5\u001b[39m \u001b[38;5;28;01mfrom\u001b[39;00m\u001b[38;5;250m \u001b[39m\u001b[34;01msklearn\u001b[39;00m\u001b[34;01m.\u001b[39;00m\u001b[34;01mmodel_selection\u001b[39;00m\u001b[38;5;250m \u001b[39m\u001b[38;5;28;01mimport\u001b[39;00m train_test_split\n\u001b[32m      6\u001b[39m \u001b[38;5;28;01mfrom\u001b[39;00m\u001b[38;5;250m \u001b[39m\u001b[34;01msklearn\u001b[39;00m\u001b[34;01m.\u001b[39;00m\u001b[34;01mpreprocessing\u001b[39;00m\u001b[38;5;250m \u001b[39m\u001b[38;5;28;01mimport\u001b[39;00m StandardScaler\n\u001b[32m      8\u001b[39m \u001b[38;5;66;03m# Download dataset\u001b[39;00m\n",
            "\u001b[31mModuleNotFoundError\u001b[39m: No module named 'sklearn'"
          ]
        }
      ],
      "source": [
        "\n",
        "import kagglehub\n",
        "import pandas as pd\n",
        "import numpy as np\n",
        "import matplotlib.pyplot as plt\n",
        "from sklearn.model_selection import train_test_split\n",
        "from sklearn.preprocessing import StandardScaler\n",
        "\n",
        "# Download dataset\n",
        "path = kagglehub.dataset_download(\"shree1992/housedata\")\n",
        "print(\"Path to dataset files:\", path)\n",
        "\n",
        "# Load the dataset\n",
        "import os\n",
        "csv_file = None\n",
        "for file in os.listdir(path):\n",
        "    if file.endswith('.csv'):\n",
        "        csv_file = os.path.join(path, file)\n",
        "        break\n",
        "\n",
        "if csv_file:\n",
        "    df = pd.read_csv(csv_file)\n",
        "    print(f\"\\nDataset loaded: {csv_file}\")\n",
        "    print(f\"Shape: {df.shape}\")\n",
        "    print(f\"\\nFirst few rows:\\n{df.head()}\")\n",
        "    print(f\"\\nColumn names:\\n{df.columns.tolist()}\")\n",
        "    print(f\"\\nData info:\")\n",
        "    print(df.info())\n",
        "else:\n",
        "    print(\"No CSV file found!\")\n",
        "\n",
        "\n",
        "# Gradient Descent Implementation\n",
        "class GradientDescentRegressor:\n",
        "    def __init__(self, learning_rate=0.01, n_iterations=1000, tolerance=1e-6):\n",
        "        \"\"\"\n",
        "        Initialize Gradient Descent Regressor\n",
        "\n",
        "        Parameters:\n",
        "        - learning_rate: Step size for parameter updates\n",
        "        - n_iterations: Maximum number of iterations\n",
        "        - tolerance: Convergence threshold\n",
        "        \"\"\"\n",
        "        self.lr = learning_rate\n",
        "        self.n_iterations = n_iterations\n",
        "        self.tolerance = tolerance\n",
        "        self.weights = None\n",
        "        self.bias = None\n",
        "        self.cost_history = []\n",
        "\n",
        "    def _compute_cost(self, X, y, weights, bias):\n",
        "        \"\"\"Compute Mean Squared Error cost function\"\"\"\n",
        "        m = len(y)\n",
        "        predictions = X.dot(weights) + bias\n",
        "        cost = (1/(2*m)) * np.sum((predictions - y)**2)\n",
        "        return cost\n",
        "\n",
        "    def _compute_gradients(self, X, y, weights, bias):\n",
        "        \"\"\"Compute gradients for weights and bias\"\"\"\n",
        "        m = len(y)\n",
        "        predictions = X.dot(weights) + bias\n",
        "\n",
        "        # Gradients\n",
        "        dw = (1/m) * X.T.dot(predictions - y)\n",
        "        db = (1/m) * np.sum(predictions - y)\n",
        "\n",
        "        return dw, db\n",
        "\n",
        "    def fit(self, X, y):\n",
        "        \"\"\"\n",
        "        Train the model using Gradient Descent\n",
        "\n",
        "        Parameters:\n",
        "        - X: Training features (m samples, n features)\n",
        "        - y: Target values (m samples)\n",
        "        \"\"\"\n",
        "        m, n = X.shape\n",
        "\n",
        "        # Initialize parameters\n",
        "        self.weights = np.zeros(n)\n",
        "        self.bias = 0\n",
        "\n",
        "        # Gradient Descent\n",
        "        for i in range(self.n_iterations):\n",
        "            # Compute cost\n",
        "            cost = self._compute_cost(X, y, self.weights, self.bias)\n",
        "            self.cost_history.append(cost)\n",
        "\n",
        "            # Compute gradients\n",
        "            dw, db = self._compute_gradients(X, y, self.weights, self.bias)\n",
        "\n",
        "            # Update parameters\n",
        "            self.weights -= self.lr * dw\n",
        "            self.bias -= self.lr * db\n",
        "\n",
        "            # Print progress\n",
        "            if (i + 1) % 100 == 0:\n",
        "                print(f\"Iteration {i+1}/{self.n_iterations}, Cost: {cost:.4f}\")\n",
        "\n",
        "            # Check convergence\n",
        "            if i > 0 and abs(self.cost_history[-2] - self.cost_history[-1]) < self.tolerance:\n",
        "                print(f\"Converged at iteration {i+1}\")\n",
        "                break\n",
        "\n",
        "        return self\n",
        "\n",
        "    def predict(self, X):\n",
        "        \"\"\"Make predictions on new data\"\"\"\n",
        "        return X.dot(self.weights) + self.bias\n",
        "\n",
        "    def score(self, X, y):\n",
        "        \"\"\"Calculate R² score\"\"\"\n",
        "        predictions = self.predict(X)\n",
        "        ss_res = np.sum((y - predictions)**2)\n",
        "        ss_tot = np.sum((y - np.mean(y))**2)\n",
        "        r2 = 1 - (ss_res / ss_tot)\n",
        "        return r2\n",
        "\n",
        "\n",
        "# Data Preprocessing and Model Training\n",
        "def prepare_and_train(df):\n",
        "    \"\"\"Prepare data and train gradient descent model\"\"\"\n",
        "\n",
        "    # Identify target column (usually 'price' or similar)\n",
        "    target_col = None\n",
        "    for col in ['price', 'Price', 'PRICE', 'SalePrice', 'median_house_value']:\n",
        "        if col in df.columns:\n",
        "            target_col = col\n",
        "            break\n",
        "\n",
        "    if target_col is None:\n",
        "        print(\"\\nCouldn't automatically identify target column.\")\n",
        "        print(\"Available columns:\", df.columns.tolist())\n",
        "        return\n",
        "\n",
        "    print(f\"\\nUsing '{target_col}' as target variable\")\n",
        "\n",
        "    # Separate features and target\n",
        "    X = df.drop(columns=[target_col])\n",
        "    y = df[target_col]\n",
        "\n",
        "    # Select only numeric columns\n",
        "    numeric_cols = X.select_dtypes(include=[np.number]).columns\n",
        "    X = X[numeric_cols]\n",
        "\n",
        "    # Handle missing values\n",
        "    X = X.fillna(X.mean())\n",
        "    y = y.fillna(y.mean())\n",
        "\n",
        "    print(f\"\\nFeatures shape: {X.shape}\")\n",
        "    print(f\"Target shape: {y.shape}\")\n",
        "    print(f\"\\nUsing features: {X.columns.tolist()}\")\n",
        "\n",
        "    # Split data\n",
        "    X_train, X_test, y_train, y_test = train_test_split(\n",
        "        X, y, test_size=0.2, random_state=42\n",
        "    )\n",
        "\n",
        "    # Feature scaling (important for gradient descent!)\n",
        "    scaler = StandardScaler()\n",
        "    X_train_scaled = scaler.fit_transform(X_train)\n",
        "    X_test_scaled = scaler.transform(X_test)\n",
        "\n",
        "    # Convert to numpy arrays\n",
        "    y_train = y_train.values\n",
        "    y_test = y_test.values\n",
        "\n",
        "    # Train model with Gradient Descent\n",
        "    print(\"\\n\" + \"=\"*50)\n",
        "    print(\"Training Gradient Descent Model\")\n",
        "    print(\"=\"*50)\n",
        "\n",
        "    model = GradientDescentRegressor(learning_rate=0.01, n_iterations=1000)\n",
        "    model.fit(X_train_scaled, y_train)\n",
        "\n",
        "    # Evaluate model\n",
        "    train_score = model.score(X_train_scaled, y_train)\n",
        "    test_score = model.score(X_test_scaled, y_test)\n",
        "\n",
        "    print(f\"\\n\" + \"=\"*50)\n",
        "    print(\"Model Performance\")\n",
        "    print(\"=\"*50)\n",
        "    print(f\"Training R² Score: {train_score:.4f}\")\n",
        "    print(f\"Testing R² Score: {test_score:.4f}\")\n",
        "\n",
        "    # Make predictions\n",
        "    y_pred_train = model.predict(X_train_scaled)\n",
        "    y_pred_test = model.predict(X_test_scaled)\n",
        "\n",
        "    # Calculate RMSE\n",
        "    train_rmse = np.sqrt(np.mean((y_train - y_pred_train)**2))\n",
        "    test_rmse = np.sqrt(np.mean((y_test - y_pred_test)**2))\n",
        "\n",
        "    print(f\"Training RMSE: ${train_rmse:,.2f}\")\n",
        "    print(f\"Testing RMSE: ${test_rmse:,.2f}\")\n",
        "\n",
        "    # Visualizations\n",
        "    fig, axes = plt.subplots(2, 2, figsize=(14, 10))\n",
        "\n",
        "    # 1. Cost function over iterations\n",
        "    axes[0, 0].plot(model.cost_history, linewidth=2)\n",
        "    axes[0, 0].set_xlabel('Iteration', fontsize=10)\n",
        "    axes[0, 0].set_ylabel('Cost (MSE)', fontsize=10)\n",
        "    axes[0, 0].set_title('Cost Function Convergence', fontsize=12, fontweight='bold')\n",
        "    axes[0, 0].grid(True, alpha=0.3)\n",
        "\n",
        "    # 2. Actual vs Predicted (Training)\n",
        "    axes[0, 1].scatter(y_train, y_pred_train, alpha=0.5, s=20)\n",
        "    axes[0, 1].plot([y_train.min(), y_train.max()],\n",
        "                     [y_train.min(), y_train.max()],\n",
        "                     'r--', lw=2, label='Perfect Prediction')\n",
        "    axes[0, 1].set_xlabel('Actual Price', fontsize=10)\n",
        "    axes[0, 1].set_ylabel('Predicted Price', fontsize=10)\n",
        "    axes[0, 1].set_title(f'Training Set: Actual vs Predicted (R²={train_score:.4f})',\n",
        "                          fontsize=12, fontweight='bold')\n",
        "    axes[0, 1].legend()\n",
        "    axes[0, 1].grid(True, alpha=0.3)\n",
        "\n",
        "    # 3. Actual vs Predicted (Testing)\n",
        "    axes[1, 0].scatter(y_test, y_pred_test, alpha=0.5, s=20, color='orange')\n",
        "    axes[1, 0].plot([y_test.min(), y_test.max()],\n",
        "                     [y_test.min(), y_test.max()],\n",
        "                     'r--', lw=2, label='Perfect Prediction')\n",
        "    axes[1, 0].set_xlabel('Actual Price', fontsize=10)\n",
        "    axes[1, 0].set_ylabel('Predicted Price', fontsize=10)\n",
        "    axes[1, 0].set_title(f'Testing Set: Actual vs Predicted (R²={test_score:.4f})',\n",
        "                          fontsize=12, fontweight='bold')\n",
        "    axes[1, 0].legend()\n",
        "    axes[1, 0].grid(True, alpha=0.3)\n",
        "\n",
        "    # 4. Residuals plot\n",
        "    residuals = y_test - y_pred_test\n",
        "    axes[1, 1].scatter(y_pred_test, residuals, alpha=0.5, s=20, color='green')\n",
        "    axes[1, 1].axhline(y=0, color='r', linestyle='--', lw=2)\n",
        "    axes[1, 1].set_xlabel('Predicted Price', fontsize=10)\n",
        "    axes[1, 1].set_ylabel('Residuals', fontsize=10)\n",
        "    axes[1, 1].set_title('Residual Plot', fontsize=12, fontweight='bold')\n",
        "    axes[1, 1].grid(True, alpha=0.3)\n",
        "\n",
        "    plt.tight_layout()\n",
        "    plt.show()\n",
        "\n",
        "    # Feature importance (based on weights magnitude)\n",
        "    feature_importance = pd.DataFrame({\n",
        "        'Feature': X.columns,\n",
        "        'Weight': np.abs(model.weights)\n",
        "    }).sort_values('Weight', ascending=False)\n",
        "\n",
        "    print(f\"\\n\" + \"=\"*50)\n",
        "    print(\"Feature Importance (by weight magnitude)\")\n",
        "    print(\"=\"*50)\n",
        "    print(feature_importance.to_string(index=False))\n",
        "\n",
        "    return model, scaler, X.columns\n",
        "\n",
        "\n",
        "# Run the complete pipeline\n",
        "if csv_file:\n",
        "    model, scaler, feature_names = prepare_and_train(df)"
      ]
    },
    {
      "cell_type": "code",
      "execution_count": 6,
      "metadata": {
        "id": "w-pLxCTwFKXU"
      },
      "outputs": [],
      "source": [
        "X_mean = X_train.mean(axis=0)\n",
        "X_std  = X_train.std(axis=0, ddof=0)\n",
        "X_std[X_std == 0] = 1.0                 # avoid divide-by-zero\n",
        "\n",
        "X_train_scaled = (X_train - X_mean) / X_std\n",
        "X_test_scaled  = (X_test  - X_mean) / X_std"
      ]
    },
    {
      "cell_type": "code",
      "execution_count": 7,
      "metadata": {
        "id": "8Lem0F0TFjTa"
      },
      "outputs": [],
      "source": [
        "y_mean = y_train.mean()\n",
        "y_std  = y_train.std(ddof=0)\n",
        "if y_std == 0:\n",
        "    y_std = 1.0\n",
        "\n",
        "y_train_scaled = (y_train - y_mean) / y_std\n",
        "y_test_scaled  = (y_test  - y_mean) / y_std"
      ]
    },
    {
      "cell_type": "code",
      "execution_count": 8,
      "metadata": {
        "id": "v_wuiVw0Fm2y"
      },
      "outputs": [],
      "source": [
        "m_train = X_train_scaled.shape[0]\n",
        "Xb_train = np.c_[np.ones((m_train,1)), X_train_scaled]   # shape (m_train, n_features+1)\n",
        "\n",
        "m_test = X_test_scaled.shape[0]\n",
        "Xb_test = np.c_[np.ones((m_test,1)), X_test_scaled]"
      ]
    },
    {
      "cell_type": "code",
      "execution_count": 9,
      "metadata": {
        "id": "qPmM1-9BFp2f"
      },
      "outputs": [],
      "source": [
        "n_params = Xb_train.shape[1]   # n_features + 1\n",
        "theta = np.zeros(n_params)     # start with zeros\n",
        "\n",
        "learning_rate = 0.01\n",
        "iterations = 2000"
      ]
    },
    {
      "cell_type": "code",
      "execution_count": 10,
      "metadata": {
        "id": "uVC0YUq5Fu9X"
      },
      "outputs": [],
      "source": [
        "m = m_train\n",
        "cost_history = []\n",
        "\n",
        "for it in range(iterations):\n",
        "    preds = Xb_train.dot(theta)           # shape (m,)\n",
        "    error = preds - y_train_scaled        # difference (pred - actual) on scaled target\n",
        "    gradients = (1.0 / m) * Xb_train.T.dot(error)\n",
        "    theta -= learning_rate * gradients\n",
        "    cost = (1.0 / (2*m)) * np.sum(error**2)\n",
        "    cost_history.append(cost)"
      ]
    },
    {
      "cell_type": "code",
      "execution_count": 11,
      "metadata": {
        "colab": {
          "base_uri": "https://localhost:8080/",
          "height": 472
        },
        "id": "CoYRHa_hFyuX",
        "outputId": "bdebe089-07e7-4ba2-a44f-cfd97ed5f3ef"
      },
      "outputs": [
        {
          "data": {
            "image/png": "[encoded data removed]",
            "text/plain": [
              "<Figure size 640x480 with 1 Axes>"
            ]
          },
          "metadata": {},
          "output_type": "display_data"
        }
      ],
      "source": [
        "import matplotlib.pyplot as plt\n",
        "plt.plot(cost_history)\n",
        "plt.xlabel(\"Iteration\")\n",
        "plt.ylabel(\"Cost (J)\")\n",
        "plt.title(\"Gradient Descent Convergence\")\n",
        "plt.show()"
      ]
    },
    {
      "cell_type": "code",
      "execution_count": 12,
      "metadata": {
        "colab": {
          "base_uri": "https://localhost:8080/"
        },
        "id": "iO9oBZu_F8G9",
        "outputId": "21b63582-e829-4703-afe3-1c8c3be8ba7f"
      },
      "outputs": [
        {
          "name": "stdout",
          "output_type": "stream",
          "text": [
            "Test RMSE: 994928.30    R^2: 0.0294\n"
          ]
        }
      ],
      "source": [
        "y_test_pred_scaled = Xb_test.dot(theta)\n",
        "\n",
        "# unscale to original price units\n",
        "y_test_pred = y_test_pred_scaled * y_std + y_mean\n",
        "\n",
        "from sklearn.metrics import mean_squared_error, r2_score\n",
        "mse = mean_squared_error(y_test, y_test_pred)\n",
        "rmse = np.sqrt(mse)\n",
        "r2 = r2_score(y_test, y_test_pred)\n",
        "\n",
        "print(f\"Test RMSE: {rmse:.2f}    R^2: {r2:.4f}\")"
      ]
    },
    {
      "cell_type": "code",
      "execution_count": 13,
      "metadata": {
        "colab": {
          "base_uri": "https://localhost:8080/"
        },
        "id": "p6bJ8LJEF9vG",
        "outputId": "b49e425d-951d-4229-836c-d311b52b38b5"
      },
      "outputs": [
        {
          "name": "stdout",
          "output_type": "stream",
          "text": [
            "Predicted price: 467659.88\n"
          ]
        }
      ],
      "source": [
        "new_house = np.array([3, 2.0, 1800, 4000, 1.0])     # same order as features\n",
        "new_scaled = (new_house - X_mean) / X_std\n",
        "new_b = np.r_[1, new_scaled]                        # add bias\n",
        "pred_scaled = new_b.dot(theta)\n",
        "pred_price = pred_scaled * y_std + y_mean\n",
        "print(f\"Predicted price: {pred_price:.2f}\")"
      ]
    },
    {
      "cell_type": "code",
      "execution_count": 14,
      "metadata": {
        "colab": {
          "base_uri": "https://localhost:8080/"
        },
        "id": "XBhpV3sxHgCa",
        "outputId": "b1376648-c1fb-41fe-99e8-8576a296ef2c"
      },
      "outputs": [
        {
          "name": "stdout",
          "output_type": "stream",
          "text": [
            "Baseline RMSE (predict train mean): 1010500.78\n",
            "Model RMSE: 994928.30\n",
            "Model MAE: 221679.03\n",
            "Baseline MAE: 277797.29\n",
            "MAPE: 36.10%\n",
            "% predictions within ±10%: 19.57%\n",
            "% predictions within ±20%: 36.63%\n",
            "R^2 (sanity): 0.0294\n"
          ]
        }
      ],
      "source": [
        "from sklearn.metrics import mean_absolute_error, r2_score\n",
        "import numpy as np\n",
        "\n",
        "# baseline: predict training mean for every test sample\n",
        "baseline_pred = np.mean(y_train)           # use train mean\n",
        "baseline_rmse = np.sqrt(np.mean((y_test - baseline_pred)**2))\n",
        "baseline_mae  = np.mean(np.abs(y_test - baseline_pred))\n",
        "\n",
        "mae = mean_absolute_error(y_test, y_test_pred)\n",
        "mape_mask = y_test != 0\n",
        "mape = np.mean(np.abs((y_test[mape_mask] - y_test_pred[mape_mask]) / y_test[mape_mask])) * 100\n",
        "\n",
        "within_10 = np.mean(np.abs(y_test - y_test_pred) <= 0.10 * y_test) * 100\n",
        "within_20 = np.mean(np.abs(y_test - y_test_pred) <= 0.20 * y_test) * 100\n",
        "\n",
        "print(f\"Baseline RMSE (predict train mean): {baseline_rmse:.2f}\")\n",
        "print(f\"Model RMSE: {np.sqrt(((y_test - y_test_pred)**2).mean()):.2f}\")\n",
        "print(f\"Model MAE: {mae:.2f}\")\n",
        "print(f\"Baseline MAE: {baseline_mae:.2f}\")\n",
        "print(f\"MAPE: {mape:.2f}%\")\n",
        "print(f\"% predictions within ±10%: {within_10:.2f}%\")\n",
        "print(f\"% predictions within ±20%: {within_20:.2f}%\")\n",
        "print(f\"R^2 (sanity): {r2_score(y_test, y_test_pred):.4f}\")\n"
      ]
    }
  ],
  "metadata": {
    "colab": {
      "provenance": []
    },
    "kernelspec": {
      "display_name": "Python 3",
      "name": "python3"
    },
    "language_info": {
      "codemirror_mode": {
        "name": "ipython",
        "version": 3
      },
      "file_extension": ".py",
      "mimetype": "text/x-python",
      "name": "python",
      "nbconvert_exporter": "python",
      "pygments_lexer": "ipython3",
      "version": "3.13.3"
    }
  },
  "nbformat": 4,
  "nbformat_minor": 0
}
